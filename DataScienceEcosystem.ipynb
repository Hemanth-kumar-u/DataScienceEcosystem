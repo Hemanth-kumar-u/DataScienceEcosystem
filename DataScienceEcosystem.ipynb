{
  "metadata": {
    "kernelspec": {
      "name": "python",
      "display_name": "Python (Pyodide)",
      "language": "python"
    },
    "language_info": {
      "codemirror_mode": {
        "name": "python",
        "version": 3
      },
      "file_extension": ".py",
      "mimetype": "text/x-python",
      "name": "python",
      "nbconvert_exporter": "python",
      "pygments_lexer": "ipython3",
      "version": "3.8"
    },
    "prev_pub_hash": "9e1985db9844176462bd1d5863048c9f3d17404bbc6a648be9084b0c42b29347"
  },
  "nbformat_minor": 4,
  "nbformat": 4,
  "cells": [
    {
      "cell_type": "markdown",
      "source": "# Data Science Tools and Ecosystem",
      "metadata": {}
    },
    {
      "cell_type": "markdown",
      "source": "In this notebook, Data Science Tools and Ecosystem are summarized.",
      "metadata": {}
    },
    {
      "cell_type": "markdown",
      "source": "Some of the popular languages that Data Scientists use are:\n\n1. Python\n2. R\n3. SQL\n4. Julia\n5. Scala",
      "metadata": {}
    },
    {
      "cell_type": "markdown",
      "source": "Some of the commonly used libraries used by Data Scientists include:\n\n1. Pandas\n2. NumPy\n3. Scikit-learn\n4. TensorFlow\n5. SciPy\n6. PyTorch",
      "metadata": {}
    },
    {
      "cell_type": "markdown",
      "source": "|Data Science Tools|\n|---|\n|SAS|\n|Apache Hadoop|\n|TensorFlow|",
      "metadata": {}
    },
    {
      "cell_type": "markdown",
      "source": "### Below are a few examples of evaluating arithmetic expressions in Python",
      "metadata": {}
    },
    {
      "cell_type": "code",
      "source": "# This a simple arithmetic expression to multiply then add integers\n(3*4)+5",
      "metadata": {
        "trusted": true
      },
      "outputs": [
        {
          "execution_count": 2,
          "output_type": "execute_result",
          "data": {
            "text/plain": "17"
          },
          "metadata": {}
        }
      ],
      "execution_count": 2
    },
    {
      "cell_type": "code",
      "source": "# This will convert 200 minutes to hours by dividing by 60\n200 / 60",
      "metadata": {
        "trusted": true
      },
      "outputs": [
        {
          "execution_count": 3,
          "output_type": "execute_result",
          "data": {
            "text/plain": "3.3333333333333335"
          },
          "metadata": {}
        }
      ],
      "execution_count": 3
    },
    {
      "cell_type": "markdown",
      "source": "__Objectives:__\n\n* List popular languages for Data Science\n* Identify commonly used Data Science libraries\n* Explore open-source Data Science tools\n* Demonstrate basic arithmetic operations in Python\n* Convert time units using Python expressions",
      "metadata": {}
    },
    {
      "cell_type": "markdown",
      "source": "## Author\nHemanth Kumar",
      "metadata": {}
    }
  ]
}